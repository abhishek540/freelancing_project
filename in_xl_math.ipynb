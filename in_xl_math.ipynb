{
 "cells": [
  {
   "cell_type": "code",
   "execution_count": 1,
   "metadata": {},
   "outputs": [],
   "source": [
    "import pandas as pd\n",
    "import numpy as np\n",
    "\n",
    "from bs4 import BeautifulSoup\n",
    "import requests"
   ]
  },
  {
   "cell_type": "code",
   "execution_count": 4,
   "metadata": {},
   "outputs": [],
   "source": [
    "#Storing static page in soup\n",
    "\n",
    "url = \"https://in.ixl.com/maths/class-vii\"\n",
    "\n",
    "\n",
    "r = requests.get(url)\n",
    "html = r.content\n",
    "\n",
    "#Parsing the HTML content\n",
    "soup = BeautifulSoup(r.text)\n",
    "\n"
   ]
  },
  {
   "cell_type": "code",
   "execution_count": 22,
   "metadata": {},
   "outputs": [],
   "source": [
    "x = soup.find_all(\"h2\")  #find all h2 index then i will find index of \"percents\""
   ]
  },
  {
   "cell_type": "code",
   "execution_count": 23,
   "metadata": {},
   "outputs": [
    {
     "name": "stdout",
     "output_type": "stream",
     "text": [
      "10\n"
     ]
    }
   ],
   "source": [
    "x = [i.text for i in x]\n",
    "print(x.index(\"Percents\"))   #index of percent is 10"
   ]
  },
  {
   "cell_type": "code",
   "execution_count": 38,
   "metadata": {},
   "outputs": [],
   "source": [
    "div = soup.find_all(\"div\", class_= \"skill-tree-category\")   # on index 10 div i will srape all the question"
   ]
  },
  {
   "cell_type": "code",
   "execution_count": 50,
   "metadata": {},
   "outputs": [],
   "source": [
    "li = div[10].find_all(\"a\")"
   ]
  },
  {
   "cell_type": "code",
   "execution_count": 52,
   "metadata": {},
   "outputs": [
    {
     "data": {
      "text/plain": [
       "'/math/class-vii/what-percentage-is-illustrated'"
      ]
     },
     "execution_count": 52,
     "metadata": {},
     "output_type": "execute_result"
    }
   ],
   "source": [
    "li[0][\"href\"]"
   ]
  },
  {
   "cell_type": "code",
   "execution_count": 54,
   "metadata": {},
   "outputs": [
    {
     "data": {
      "text/plain": [
       "'What percentage is illustrated?'"
      ]
     },
     "execution_count": 54,
     "metadata": {},
     "output_type": "execute_result"
    }
   ],
   "source": [
    "li[0].text.strip()"
   ]
  },
  {
   "cell_type": "code",
   "execution_count": 57,
   "metadata": {},
   "outputs": [
    {
     "data": {
      "text/plain": [
       "'/math/class-vii/what-percentage-is-illustrated'"
      ]
     },
     "execution_count": 57,
     "metadata": {},
     "output_type": "execute_result"
    }
   ],
   "source": [
    "z = li[0]\n",
    "z[\"href\"]"
   ]
  },
  {
   "cell_type": "code",
   "execution_count": 59,
   "metadata": {},
   "outputs": [
    {
     "data": {
      "text/html": [
       "<div>\n",
       "<style scoped>\n",
       "    .dataframe tbody tr th:only-of-type {\n",
       "        vertical-align: middle;\n",
       "    }\n",
       "\n",
       "    .dataframe tbody tr th {\n",
       "        vertical-align: top;\n",
       "    }\n",
       "\n",
       "    .dataframe thead th {\n",
       "        text-align: right;\n",
       "    }\n",
       "</style>\n",
       "<table border=\"1\" class=\"dataframe\">\n",
       "  <thead>\n",
       "    <tr style=\"text-align: right;\">\n",
       "      <th></th>\n",
       "      <th>Questions</th>\n",
       "      <th>links</th>\n",
       "    </tr>\n",
       "  </thead>\n",
       "  <tbody>\n",
       "    <tr>\n",
       "      <th>0</th>\n",
       "      <td>What percentage is illustrated?</td>\n",
       "      <td>https://in.ixl.com/maths/class-vii/math/class-...</td>\n",
       "    </tr>\n",
       "    <tr>\n",
       "      <th>1</th>\n",
       "      <td>Convert between percents, fractions and decimals</td>\n",
       "      <td>https://in.ixl.com/maths/class-vii/math/class-...</td>\n",
       "    </tr>\n",
       "    <tr>\n",
       "      <th>2</th>\n",
       "      <td>Compare percents to fractions and decimals</td>\n",
       "      <td>https://in.ixl.com/maths/class-vii/math/class-...</td>\n",
       "    </tr>\n",
       "    <tr>\n",
       "      <th>3</th>\n",
       "      <td>Estimate percents of numbers</td>\n",
       "      <td>https://in.ixl.com/maths/class-vii/math/class-...</td>\n",
       "    </tr>\n",
       "    <tr>\n",
       "      <th>4</th>\n",
       "      <td>Percents of numbers and money amounts</td>\n",
       "      <td>https://in.ixl.com/maths/class-vii/math/class-...</td>\n",
       "    </tr>\n",
       "    <tr>\n",
       "      <th>5</th>\n",
       "      <td>Percents of numbers: word problems</td>\n",
       "      <td>https://in.ixl.com/maths/class-vii/math/class-...</td>\n",
       "    </tr>\n",
       "    <tr>\n",
       "      <th>6</th>\n",
       "      <td>Solve percent equations</td>\n",
       "      <td>https://in.ixl.com/maths/class-vii/math/class-...</td>\n",
       "    </tr>\n",
       "    <tr>\n",
       "      <th>7</th>\n",
       "      <td>Solve percent equations: word problems</td>\n",
       "      <td>https://in.ixl.com/maths/class-vii/math/class-...</td>\n",
       "    </tr>\n",
       "  </tbody>\n",
       "</table>\n",
       "</div>"
      ],
      "text/plain": [
       "                                          Questions  \\\n",
       "0                   What percentage is illustrated?   \n",
       "1  Convert between percents, fractions and decimals   \n",
       "2        Compare percents to fractions and decimals   \n",
       "3                      Estimate percents of numbers   \n",
       "4             Percents of numbers and money amounts   \n",
       "5                Percents of numbers: word problems   \n",
       "6                           Solve percent equations   \n",
       "7            Solve percent equations: word problems   \n",
       "\n",
       "                                               links  \n",
       "0  https://in.ixl.com/maths/class-vii/math/class-...  \n",
       "1  https://in.ixl.com/maths/class-vii/math/class-...  \n",
       "2  https://in.ixl.com/maths/class-vii/math/class-...  \n",
       "3  https://in.ixl.com/maths/class-vii/math/class-...  \n",
       "4  https://in.ixl.com/maths/class-vii/math/class-...  \n",
       "5  https://in.ixl.com/maths/class-vii/math/class-...  \n",
       "6  https://in.ixl.com/maths/class-vii/math/class-...  \n",
       "7  https://in.ixl.com/maths/class-vii/math/class-...  "
      ]
     },
     "execution_count": 59,
     "metadata": {},
     "output_type": "execute_result"
    }
   ],
   "source": [
    "df = {\"Questions\":[i.text.strip() for i in li ],\"links\":[url+i[\"href\"] for i in li]}\n",
    "df = pd.DataFrame.from_dict(df)\n",
    "df         # all the questions and its links are stored in dataframe"
   ]
  },
  {
   "cell_type": "code",
   "execution_count": 81,
   "metadata": {},
   "outputs": [],
   "source": [
    "#web page is recalled using selenium\n",
    "\n",
    "url = \"https://in.ixl.com/maths/class-vii/what-percentage-is-illustrated\"\n",
    "r = requests.get(url)\n",
    "html = r.content\n",
    "\n",
    "from selenium import webdriver\n",
    "from selenium.webdriver.common.keys import Keys\n",
    "import time, urllib.request\n",
    "import requests\n",
    "from webdriver_manager.chrome import ChromeDriverManager\n",
    "\n",
    "PATH = r\"C:\\Users\\abhik\\Downloads\\chromedriver_win32 (3)\\chromedriver.exe\"\n",
    "driver = webdriver.Chrome(PATH)\n",
    "\n",
    "driver.get(url)\n",
    "\n",
    "# #Parsing the HTML content\n",
    "# soup = BeautifulSoup(r.text)"
   ]
  },
  {
   "cell_type": "code",
   "execution_count": 84,
   "metadata": {},
   "outputs": [],
   "source": [
    "#explore button is being clicked\n",
    "\n",
    "explore = driver.find_element_by_xpath(\"/html/body/div[11]/div/div[2]/div[2]/div/div/div/div[2]/div[3]/button\").click()\n",
    "# example button is being clicked\n",
    "\n",
    "element = driver.find_element_by_xpath(\"//*[@id=\\\"yui_3_18_1_1_1645034487483_318\\\"]\").click()"
   ]
  },
  {
   "cell_type": "code",
   "execution_count": null,
   "metadata": {},
   "outputs": [],
   "source": [
    "# whole example division will be scapred\n",
    "\n",
    "text = driver.find_element_by_xpath(\"//*[@id=\\\"yui_3_18_1_1_1645032059844_303\\\"]\").getText()"
   ]
  }
 ],
 "metadata": {
  "kernelspec": {
   "display_name": "Python 3",
   "language": "python",
   "name": "python3"
  },
  "language_info": {
   "codemirror_mode": {
    "name": "ipython",
    "version": 3
   },
   "file_extension": ".py",
   "mimetype": "text/x-python",
   "name": "python",
   "nbconvert_exporter": "python",
   "pygments_lexer": "ipython3",
   "version": "3.7.4"
  }
 },
 "nbformat": 4,
 "nbformat_minor": 2
}
