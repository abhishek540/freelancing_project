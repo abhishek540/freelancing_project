{
 "cells": [
  {
   "cell_type": "code",
   "execution_count": 1,
   "id": "22eb3001",
   "metadata": {
    "_cell_guid": "b1076dfc-b9ad-4769-8c92-a6c4dae69d19",
    "_uuid": "8f2839f25d086af736a60e9eeb907d3b93b6e0e5",
    "execution": {
     "iopub.execute_input": "2022-02-06T07:05:45.361485Z",
     "iopub.status.busy": "2022-02-06T07:05:45.360474Z",
     "iopub.status.idle": "2022-02-06T07:05:45.369517Z",
     "shell.execute_reply": "2022-02-06T07:05:45.368801Z",
     "shell.execute_reply.started": "2022-02-06T05:44:58.245512Z"
    },
    "papermill": {
     "duration": 0.030767,
     "end_time": "2022-02-06T07:05:45.369700",
     "exception": false,
     "start_time": "2022-02-06T07:05:45.338933",
     "status": "completed"
    },
    "tags": []
   },
   "outputs": [],
   "source": [
    "# This Python 3 environment comes with many helpful analytics libraries installed\n",
    "# It is defined by the kaggle/python Docker image: https://github.com/kaggle/docker-python\n",
    "# For example, here's several helpful packages to load\n",
    "\n",
    "import numpy as np # linear algebra\n",
    "import pandas as pd # data processing, CSV file I/O (e.g. pd.read_csv)\n",
    "\n",
    "# Input data files are available in the read-only \"../input/\" directory\n",
    "# For example, running this (by clicking run or pressing Shift+Enter) will list all files under the input directory\n",
    "\n",
    "import os\n",
    "for dirname, _, filenames in os.walk('/kaggle/input'):\n",
    "    for filename in filenames:\n",
    "        print(os.path.join(dirname, filename))\n",
    "\n",
    "# You can write up to 20GB to the current directory (/kaggle/working/) that gets preserved as output when you create a version using \"Save & Run All\" \n",
    "# You can also write temporary files to /kaggle/temp/, but they won't be saved outside of the current session"
   ]
  },
  {
   "cell_type": "code",
   "execution_count": 2,
   "id": "dbaf332d",
   "metadata": {
    "execution": {
     "iopub.execute_input": "2022-02-06T07:05:45.401965Z",
     "iopub.status.busy": "2022-02-06T07:05:45.401161Z",
     "iopub.status.idle": "2022-02-06T07:05:45.723620Z",
     "shell.execute_reply": "2022-02-06T07:05:45.722698Z",
     "shell.execute_reply.started": "2022-02-06T05:44:58.254355Z"
    },
    "papermill": {
     "duration": 0.33956,
     "end_time": "2022-02-06T07:05:45.723840",
     "exception": false,
     "start_time": "2022-02-06T07:05:45.384280",
     "status": "completed"
    },
    "tags": []
   },
   "outputs": [],
   "source": [
    "# Importing the Libraries\n",
    "import pandas as pd\n",
    "import numpy as np\n",
    "\n",
    "from bs4 import BeautifulSoup\n",
    "import requests\n"
   ]
  },
  {
   "cell_type": "code",
   "execution_count": 3,
   "id": "b9524f3f",
   "metadata": {
    "execution": {
     "iopub.execute_input": "2022-02-06T07:05:45.752045Z",
     "iopub.status.busy": "2022-02-06T07:05:45.751157Z",
     "iopub.status.idle": "2022-02-06T07:05:56.712885Z",
     "shell.execute_reply": "2022-02-06T07:05:56.713378Z",
     "shell.execute_reply.started": "2022-02-06T05:44:58.561297Z"
    },
    "papermill": {
     "duration": 10.977178,
     "end_time": "2022-02-06T07:05:56.713565",
     "exception": false,
     "start_time": "2022-02-06T07:05:45.736387",
     "status": "completed"
    },
    "tags": []
   },
   "outputs": [
    {
     "name": "stdout",
     "output_type": "stream",
     "text": [
      "Requirement already satisfied: certifi in /opt/conda/lib/python3.7/site-packages (2021.10.8)\r\n",
      "\u001b[33mWARNING: Running pip as the 'root' user can result in broken permissions and conflicting behaviour with the system package manager. It is recommended to use a virtual environment instead: https://pip.pypa.io/warnings/venv\u001b[0m\r\n"
     ]
    }
   ],
   "source": [
    "!pip install --upgrade certifi"
   ]
  },
  {
   "cell_type": "code",
   "execution_count": 4,
   "id": "436defa5",
   "metadata": {
    "execution": {
     "iopub.execute_input": "2022-02-06T07:05:56.749137Z",
     "iopub.status.busy": "2022-02-06T07:05:56.744801Z",
     "iopub.status.idle": "2022-02-06T07:05:57.498262Z",
     "shell.execute_reply": "2022-02-06T07:05:57.497633Z",
     "shell.execute_reply.started": "2022-02-06T05:45:08.938883Z"
    },
    "papermill": {
     "duration": 0.771864,
     "end_time": "2022-02-06T07:05:57.498411",
     "exception": false,
     "start_time": "2022-02-06T07:05:56.726547",
     "status": "completed"
    },
    "tags": []
   },
   "outputs": [
    {
     "name": "stdout",
     "output_type": "stream",
     "text": [
      "/bin/bash: //Applications/Python 3.6/Install Certificates.command: No such file or directory\r\n"
     ]
    }
   ],
   "source": [
    "!//Applications/Python\\ 3.6/Install\\ Certificates.command"
   ]
  },
  {
   "cell_type": "code",
   "execution_count": 5,
   "id": "2716daf7",
   "metadata": {
    "execution": {
     "iopub.execute_input": "2022-02-06T07:05:57.533621Z",
     "iopub.status.busy": "2022-02-06T07:05:57.532933Z",
     "iopub.status.idle": "2022-02-06T07:05:59.509361Z",
     "shell.execute_reply": "2022-02-06T07:05:59.508705Z",
     "shell.execute_reply.started": "2022-02-06T05:45:09.700745Z"
    },
    "papermill": {
     "duration": 1.997572,
     "end_time": "2022-02-06T07:05:59.509506",
     "exception": false,
     "start_time": "2022-02-06T07:05:57.511934",
     "status": "completed"
    },
    "tags": []
   },
   "outputs": [
    {
     "name": "stderr",
     "output_type": "stream",
     "text": [
      "/opt/conda/lib/python3.7/site-packages/urllib3/connectionpool.py:1020: InsecureRequestWarning: Unverified HTTPS request is being made to host 'www.clinicaltrialsregister.eu'. Adding certificate verification is strongly advised. See: https://urllib3.readthedocs.io/en/1.26.x/advanced-usage.html#ssl-warnings\n",
      "  InsecureRequestWarning,\n"
     ]
    }
   ],
   "source": [
    "url = \"https://www.clinicaltrialsregister.eu/ctr-search/trial/2013-000856-16/results\"\n",
    "#Making a GET requests to fetch the raw HTML content\n",
    "# headers = {\n",
    "#     'User-Agent': 'Mozilla/5.0 (Macintosh; Intel Mac OS X 10.12; rv:55.0) Gecko/20100101 Firefox/55.0',\n",
    "# }\n",
    "headers={\n",
    "  'Accept':'text/html,application/xhtml+xml,application/xml;q=0.9,image/webp,image/apng,*/*;q=0.8',\n",
    "  'Accept-Language':'zh-CN,zh;q=0.9,en;q=0.8,ja;q=0.7',\n",
    "  'User-Agent':'Mozilla/5.0 (Windows NT 6.1; Win64; x64) AppleWebKit/537.36 (KHTML, like Gecko) Chrome/68.0.3440.106 Safari/537.36'\n",
    "}\n",
    "\n",
    "r = requests.get(url, headers=headers, verify = False)\n",
    "c = r.content\n",
    "\n",
    "#Parsing the HTML content\n",
    "soup = BeautifulSoup(c,\"html.parser\")"
   ]
  },
  {
   "cell_type": "code",
   "execution_count": 6,
   "id": "f1802d6a",
   "metadata": {
    "execution": {
     "iopub.execute_input": "2022-02-06T07:05:59.587438Z",
     "iopub.status.busy": "2022-02-06T07:05:59.571444Z",
     "iopub.status.idle": "2022-02-06T07:05:59.665321Z",
     "shell.execute_reply": "2022-02-06T07:05:59.664752Z",
     "shell.execute_reply.started": "2022-02-06T05:58:56.398149Z"
    },
    "papermill": {
     "duration": 0.142165,
     "end_time": "2022-02-06T07:05:59.665472",
     "exception": false,
     "start_time": "2022-02-06T07:05:59.523307",
     "status": "completed"
    },
    "tags": []
   },
   "outputs": [],
   "source": [
    "s = str(soup)\n",
    "s=s.replace(\"\\n\",\"\")\n"
   ]
  },
  {
   "cell_type": "code",
   "execution_count": 7,
   "id": "0d18916a",
   "metadata": {
    "execution": {
     "iopub.execute_input": "2022-02-06T07:05:59.697906Z",
     "iopub.status.busy": "2022-02-06T07:05:59.697141Z",
     "iopub.status.idle": "2022-02-06T07:05:59.701720Z",
     "shell.execute_reply": "2022-02-06T07:05:59.701200Z",
     "shell.execute_reply.started": "2022-02-06T05:59:03.735712Z"
    },
    "papermill": {
     "duration": 0.023105,
     "end_time": "2022-02-06T07:05:59.701882",
     "exception": false,
     "start_time": "2022-02-06T07:05:59.678777",
     "status": "completed"
    },
    "tags": []
   },
   "outputs": [],
   "source": [
    "file = open(\"sample.html\",\"w\")\n",
    "file.write(s)\n",
    "file.close()"
   ]
  },
  {
   "cell_type": "code",
   "execution_count": 8,
   "id": "ccdab034",
   "metadata": {
    "execution": {
     "iopub.execute_input": "2022-02-06T07:05:59.734583Z",
     "iopub.status.busy": "2022-02-06T07:05:59.733701Z",
     "iopub.status.idle": "2022-02-06T07:06:00.089722Z",
     "shell.execute_reply": "2022-02-06T07:06:00.088736Z",
     "shell.execute_reply.started": "2022-02-06T06:04:41.086750Z"
    },
    "papermill": {
     "duration": 0.374545,
     "end_time": "2022-02-06T07:06:00.089918",
     "exception": false,
     "start_time": "2022-02-06T07:05:59.715373",
     "status": "completed"
    },
    "tags": []
   },
   "outputs": [],
   "source": [
    "\n",
    "# Importing pandas\n",
    "import pandas as pd\n",
    "  \n",
    "# # The webpage URL whose table we want to extract\n",
    "# url = \"https://www.geeksforgeeks.org/extended-operators-in-relational-algebra/\"\n",
    "html_file_path = \"./sample.html\"\n",
    "# Assign the table data to a Pandas dataframe\n",
    "table = pd.read_html(html_file_path)\n",
    "  \n",
    "# Print the dataframe\n",
    "# print(table)"
   ]
  },
  {
   "cell_type": "code",
   "execution_count": 9,
   "id": "f8b82db2",
   "metadata": {
    "execution": {
     "iopub.execute_input": "2022-02-06T07:06:00.125369Z",
     "iopub.status.busy": "2022-02-06T07:06:00.124360Z",
     "iopub.status.idle": "2022-02-06T07:06:00.141302Z",
     "shell.execute_reply": "2022-02-06T07:06:00.141853Z",
     "shell.execute_reply.started": "2022-02-06T06:06:25.024345Z"
    },
    "papermill": {
     "duration": 0.038552,
     "end_time": "2022-02-06T07:06:00.142035",
     "exception": false,
     "start_time": "2022-02-06T07:06:00.103483",
     "status": "completed"
    },
    "tags": []
   },
   "outputs": [
    {
     "data": {
      "text/html": [
       "<div>\n",
       "<style scoped>\n",
       "    .dataframe tbody tr th:only-of-type {\n",
       "        vertical-align: middle;\n",
       "    }\n",
       "\n",
       "    .dataframe tbody tr th {\n",
       "        vertical-align: top;\n",
       "    }\n",
       "\n",
       "    .dataframe thead th {\n",
       "        text-align: right;\n",
       "    }\n",
       "</style>\n",
       "<table border=\"1\" class=\"dataframe\">\n",
       "  <thead>\n",
       "    <tr style=\"text-align: right;\">\n",
       "      <th></th>\n",
       "      <th>0</th>\n",
       "      <th>1</th>\n",
       "    </tr>\n",
       "  </thead>\n",
       "  <tbody>\n",
       "    <tr>\n",
       "      <th>0</th>\n",
       "      <td>Summary</td>\n",
       "      <td>NaN</td>\n",
       "    </tr>\n",
       "    <tr>\n",
       "      <th>1</th>\n",
       "      <td>EudraCT number</td>\n",
       "      <td>2013-000856-16</td>\n",
       "    </tr>\n",
       "    <tr>\n",
       "      <th>2</th>\n",
       "      <td>Trial protocol</td>\n",
       "      <td>IT  ES  PL</td>\n",
       "    </tr>\n",
       "    <tr>\n",
       "      <th>3</th>\n",
       "      <td>Global end of trial date</td>\n",
       "      <td>08 Apr 2015</td>\n",
       "    </tr>\n",
       "    <tr>\n",
       "      <th>4</th>\n",
       "      <td>NaN</td>\n",
       "      <td>NaN</td>\n",
       "    </tr>\n",
       "    <tr>\n",
       "      <th>5</th>\n",
       "      <td>Results information</td>\n",
       "      <td>NaN</td>\n",
       "    </tr>\n",
       "    <tr>\n",
       "      <th>6</th>\n",
       "      <td>Results version number</td>\n",
       "      <td>v1(current)</td>\n",
       "    </tr>\n",
       "    <tr>\n",
       "      <th>7</th>\n",
       "      <td>This version publication date</td>\n",
       "      <td>20 Apr 2016</td>\n",
       "    </tr>\n",
       "    <tr>\n",
       "      <th>8</th>\n",
       "      <td>First version publication date</td>\n",
       "      <td>20 Apr 2016</td>\n",
       "    </tr>\n",
       "    <tr>\n",
       "      <th>9</th>\n",
       "      <td>Other versions</td>\n",
       "      <td>NaN</td>\n",
       "    </tr>\n",
       "  </tbody>\n",
       "</table>\n",
       "</div>"
      ],
      "text/plain": [
       "                                0               1\n",
       "0                         Summary             NaN\n",
       "1                  EudraCT number  2013-000856-16\n",
       "2                  Trial protocol      IT  ES  PL\n",
       "3        Global end of trial date     08 Apr 2015\n",
       "4                             NaN             NaN\n",
       "5             Results information             NaN\n",
       "6          Results version number     v1(current)\n",
       "7   This version publication date     20 Apr 2016\n",
       "8  First version publication date     20 Apr 2016\n",
       "9                  Other versions             NaN"
      ]
     },
     "execution_count": 9,
     "metadata": {},
     "output_type": "execute_result"
    }
   ],
   "source": [
    "table[4]"
   ]
  },
  {
   "cell_type": "code",
   "execution_count": 10,
   "id": "85d76bab",
   "metadata": {
    "execution": {
     "iopub.execute_input": "2022-02-06T07:06:00.175327Z",
     "iopub.status.busy": "2022-02-06T07:06:00.174454Z",
     "iopub.status.idle": "2022-02-06T07:06:00.178369Z",
     "shell.execute_reply": "2022-02-06T07:06:00.177794Z",
     "shell.execute_reply.started": "2022-02-06T06:05:43.606554Z"
    },
    "papermill": {
     "duration": 0.022711,
     "end_time": "2022-02-06T07:06:00.178511",
     "exception": false,
     "start_time": "2022-02-06T07:06:00.155800",
     "status": "completed"
    },
    "tags": []
   },
   "outputs": [
    {
     "data": {
      "text/plain": [
       "67"
      ]
     },
     "execution_count": 10,
     "metadata": {},
     "output_type": "execute_result"
    }
   ],
   "source": [
    "len(table)"
   ]
  },
  {
   "cell_type": "code",
   "execution_count": 11,
   "id": "7dfa25eb",
   "metadata": {
    "execution": {
     "iopub.execute_input": "2022-02-06T07:06:00.214018Z",
     "iopub.status.busy": "2022-02-06T07:06:00.213217Z",
     "iopub.status.idle": "2022-02-06T07:06:00.216428Z",
     "shell.execute_reply": "2022-02-06T07:06:00.215698Z",
     "shell.execute_reply.started": "2022-02-06T06:16:34.143934Z"
    },
    "papermill": {
     "duration": 0.023971,
     "end_time": "2022-02-06T07:06:00.216669",
     "exception": false,
     "start_time": "2022-02-06T07:06:00.192698",
     "status": "completed"
    },
    "tags": []
   },
   "outputs": [],
   "source": [
    "from pandas import ExcelWriter\n",
    "xls_path = \"data.xlsx\"\n",
    "def save_xls(table, xls_path):\n",
    "\n",
    "    with ExcelWriter(xls_path) as writer:\n",
    "\n",
    "        for n, df in enumerate(table):\n",
    "\n",
    "            df.to_excel(writer,'sheet%s' % n)\n",
    "\n",
    "        writer.save()\n",
    "\n"
   ]
  },
  {
   "cell_type": "code",
   "execution_count": 12,
   "id": "d83bec13",
   "metadata": {
    "execution": {
     "iopub.execute_input": "2022-02-06T07:06:00.255356Z",
     "iopub.status.busy": "2022-02-06T07:06:00.249969Z",
     "iopub.status.idle": "2022-02-06T07:06:10.194677Z",
     "shell.execute_reply": "2022-02-06T07:06:10.194111Z",
     "shell.execute_reply.started": "2022-02-06T06:25:19.252594Z"
    },
    "papermill": {
     "duration": 9.96388,
     "end_time": "2022-02-06T07:06:10.194853",
     "exception": false,
     "start_time": "2022-02-06T07:06:00.230973",
     "status": "completed"
    },
    "tags": []
   },
   "outputs": [
    {
     "name": "stdout",
     "output_type": "stream",
     "text": [
      "Collecting openpyxl\r\n",
      "  Downloading openpyxl-3.0.9-py2.py3-none-any.whl (242 kB)\r\n",
      "     |████████████████████████████████| 242 kB 4.8 MB/s            \r\n",
      "\u001b[?25hCollecting et-xmlfile\r\n",
      "  Downloading et_xmlfile-1.1.0-py3-none-any.whl (4.7 kB)\r\n",
      "Installing collected packages: et-xmlfile, openpyxl\r\n",
      "Successfully installed et-xmlfile-1.1.0 openpyxl-3.0.9\r\n",
      "\u001b[33mWARNING: Running pip as the 'root' user can result in broken permissions and conflicting behaviour with the system package manager. It is recommended to use a virtual environment instead: https://pip.pypa.io/warnings/venv\u001b[0m\r\n"
     ]
    }
   ],
   "source": [
    "!pip install openpyxl"
   ]
  },
  {
   "cell_type": "code",
   "execution_count": 13,
   "id": "0683026f",
   "metadata": {
    "execution": {
     "iopub.execute_input": "2022-02-06T07:06:10.234655Z",
     "iopub.status.busy": "2022-02-06T07:06:10.233632Z",
     "iopub.status.idle": "2022-02-06T07:06:11.216366Z",
     "shell.execute_reply": "2022-02-06T07:06:11.215750Z",
     "shell.execute_reply.started": "2022-02-06T06:25:29.408386Z"
    },
    "papermill": {
     "duration": 1.005135,
     "end_time": "2022-02-06T07:06:11.216520",
     "exception": false,
     "start_time": "2022-02-06T07:06:10.211385",
     "status": "completed"
    },
    "tags": []
   },
   "outputs": [],
   "source": [
    "from openpyxl import Workbook\n",
    "\n",
    "save_xls(table,xls_path)"
   ]
  }
 ],
 "metadata": {
  "kernelspec": {
   "display_name": "Python 3",
   "language": "python",
   "name": "python3"
  },
  "language_info": {
   "codemirror_mode": {
    "name": "ipython",
    "version": 3
   },
   "file_extension": ".py",
   "mimetype": "text/x-python",
   "name": "python",
   "nbconvert_exporter": "python",
   "pygments_lexer": "ipython3",
   "version": "3.7.12"
  },
  "papermill": {
   "default_parameters": {},
   "duration": 37.173472,
   "end_time": "2022-02-06T07:06:11.947830",
   "environment_variables": {},
   "exception": null,
   "input_path": "__notebook__.ipynb",
   "output_path": "__notebook__.ipynb",
   "parameters": {},
   "start_time": "2022-02-06T07:05:34.774358",
   "version": "2.3.3"
  }
 },
 "nbformat": 4,
 "nbformat_minor": 5
}
