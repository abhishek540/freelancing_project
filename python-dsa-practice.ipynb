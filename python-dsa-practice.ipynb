{
 "cells": [
  {
   "cell_type": "code",
   "execution_count": 1,
   "id": "3dd8e884",
   "metadata": {
    "_cell_guid": "b1076dfc-b9ad-4769-8c92-a6c4dae69d19",
    "_uuid": "8f2839f25d086af736a60e9eeb907d3b93b6e0e5",
    "execution": {
     "iopub.execute_input": "2022-03-04T17:50:29.449174Z",
     "iopub.status.busy": "2022-03-04T17:50:29.448460Z",
     "iopub.status.idle": "2022-03-04T17:50:29.452942Z",
     "shell.execute_reply": "2022-03-04T17:50:29.452179Z"
    },
    "papermill": {
     "duration": 0.029189,
     "end_time": "2022-03-04T17:50:29.453121",
     "exception": false,
     "start_time": "2022-03-04T17:50:29.423932",
     "status": "completed"
    },
    "tags": []
   },
   "outputs": [],
   "source": [
    "# This Python 3 environment comes with many helpful analytics libraries installed\n",
    "# It is defined by the kaggle/python Docker image: https://github.com/kaggle/docker-python\n",
    "# For example, here's several helpful packages to load\n",
    "\n",
    "import numpy as np # linear algebra\n",
    "import pandas as pd # data processing, CSV file I/O (e.g. pd.read_csv)\n",
    "\n",
    "# Input data files are available in the read-only \"../input/\" directory\n",
    "# For example, running this (by clicking run or pressing Shift+Enter) will list all files under the input directory\n",
    "\n",
    "import os\n",
    "for dirname, _, filenames in os.walk('/kaggle/input'):\n",
    "    for filename in filenames:\n",
    "        print(os.path.join(dirname, filename))\n",
    "\n",
    "# You can write up to 20GB to the current directory (/kaggle/working/) that gets preserved as output when you create a version using \"Save & Run All\" \n",
    "# You can also write temporary files to /kaggle/temp/, but they won't be saved outside of the current session"
   ]
  },
  {
   "cell_type": "markdown",
   "id": "fa0b0756",
   "metadata": {
    "papermill": {
     "duration": 0.010739,
     "end_time": "2022-03-04T17:50:29.475467",
     "exception": false,
     "start_time": "2022-03-04T17:50:29.464728",
     "status": "completed"
    },
    "tags": []
   },
   "source": [
    "# Creating of linked list\n",
    "\n",
    "We create a Node object and create another class to use this code object. We pass the appropiate values through the node object to point to the next data elements. The below program created the linked list with three data elements. In the next section we will see how to traverse the linked list."
   ]
  },
  {
   "cell_type": "code",
   "execution_count": 2,
   "id": "09a76da9",
   "metadata": {
    "execution": {
     "iopub.execute_input": "2022-03-04T17:50:29.505386Z",
     "iopub.status.busy": "2022-03-04T17:50:29.504587Z",
     "iopub.status.idle": "2022-03-04T17:50:29.507602Z",
     "shell.execute_reply": "2022-03-04T17:50:29.506966Z",
     "shell.execute_reply.started": "2022-03-04T17:19:56.298147Z"
    },
    "papermill": {
     "duration": 0.02127,
     "end_time": "2022-03-04T17:50:29.507749",
     "exception": false,
     "start_time": "2022-03-04T17:50:29.486479",
     "status": "completed"
    },
    "tags": []
   },
   "outputs": [],
   "source": [
    "class Node:\n",
    "    def __init__(self, data=None):\n",
    "        self.data = data\n",
    "        self.next = None\n",
    "        \n",
    "class SLinkedList:\n",
    "    def __init__(self):\n",
    "        self.head = None\n",
    "        \n",
    "list1 = SLinkedList()\n",
    "list1.head = Node(\"Mon\")\n",
    "e2 = Node(\"Tue\")\n",
    "e3 = Node(\"Wed\")\n",
    "list1.head.next = e2\n",
    "e2.next = e3"
   ]
  },
  {
   "cell_type": "markdown",
   "id": "d1c0fce2",
   "metadata": {
    "papermill": {
     "duration": 0.011177,
     "end_time": "2022-03-04T17:50:29.530284",
     "exception": false,
     "start_time": "2022-03-04T17:50:29.519107",
     "status": "completed"
    },
    "tags": []
   },
   "source": [
    "# Traversing a Linked List\n",
    "Singly linked list can be traversed in only forward direction starting form the first data element.\n",
    "We simply print the value of the next data element by assigning the pointer of the next node to the current data element."
   ]
  },
  {
   "cell_type": "code",
   "execution_count": 3,
   "id": "24dd070f",
   "metadata": {
    "execution": {
     "iopub.execute_input": "2022-03-04T17:50:29.561558Z",
     "iopub.status.busy": "2022-03-04T17:50:29.560499Z",
     "iopub.status.idle": "2022-03-04T17:50:29.564761Z",
     "shell.execute_reply": "2022-03-04T17:50:29.564199Z",
     "shell.execute_reply.started": "2022-03-04T17:36:37.987166Z"
    },
    "papermill": {
     "duration": 0.023512,
     "end_time": "2022-03-04T17:50:29.564944",
     "exception": false,
     "start_time": "2022-03-04T17:50:29.541432",
     "status": "completed"
    },
    "tags": []
   },
   "outputs": [
    {
     "name": "stdout",
     "output_type": "stream",
     "text": [
      "Mon\n",
      "Tue\n",
      "Wed\n"
     ]
    }
   ],
   "source": [
    "class Node:\n",
    "    def __init__(self, data=None):\n",
    "        self.data = data\n",
    "        self.next = None\n",
    "        \n",
    "class SLinkedList:\n",
    "    def __init__(self):\n",
    "        self.head = None\n",
    "        \n",
    "    def listPrint(self):\n",
    "        printval = self.head\n",
    "        while (printval is not None):\n",
    "            print(printval.data)\n",
    "            printval = printval.next\n",
    "            \n",
    "            \n",
    "list1 = SLinkedList()\n",
    "list1.head = Node(\"Mon\")\n",
    "e2 = Node(\"Tue\")\n",
    "e3 = Node(\"Wed\")\n",
    "\n",
    "list1.head.next = e2\n",
    "e2.next = e3\n",
    "\n",
    "list1.listPrint()\n",
    "        "
   ]
  },
  {
   "cell_type": "markdown",
   "id": "26d6365a",
   "metadata": {
    "papermill": {
     "duration": 0.011205,
     "end_time": "2022-03-04T17:50:29.588251",
     "exception": false,
     "start_time": "2022-03-04T17:50:29.577046",
     "status": "completed"
    },
    "tags": []
   },
   "source": [
    "# Insertion in a Linked List\n",
    "\n",
    "Inserting element in the Linked List involves reassigning the pointers fromt the existing nodes to the newly inserted node. Depending on whether the new data element is getting inserted at the beginning or at the middle or at the end of the linked list, we have the below scenarios.\n",
    "\n",
    "### Inserting at the Beginning\n",
    "\n",
    "This involves pointing the next pointer of the new data node to the current head of the linked list. So the current head of the inked list becomes the second data element and the new node becomes the head of the linked list.\n",
    "\n"
   ]
  },
  {
   "cell_type": "code",
   "execution_count": 4,
   "id": "f1c58d8c",
   "metadata": {
    "execution": {
     "iopub.execute_input": "2022-03-04T17:50:29.622647Z",
     "iopub.status.busy": "2022-03-04T17:50:29.621409Z",
     "iopub.status.idle": "2022-03-04T17:50:29.627344Z",
     "shell.execute_reply": "2022-03-04T17:50:29.626317Z",
     "shell.execute_reply.started": "2022-03-04T17:47:58.069147Z"
    },
    "papermill": {
     "duration": 0.027665,
     "end_time": "2022-03-04T17:50:29.627616",
     "exception": false,
     "start_time": "2022-03-04T17:50:29.599951",
     "status": "completed"
    },
    "tags": []
   },
   "outputs": [
    {
     "name": "stdout",
     "output_type": "stream",
     "text": [
      "Mon\n",
      "Tue\n",
      "Wed\n",
      "\n",
      "Sun\n",
      "Mon\n",
      "Tue\n",
      "Wed\n"
     ]
    }
   ],
   "source": [
    "class Node:\n",
    "    def __init__(self, data=None):\n",
    "        self.data = data\n",
    "        self.next = None\n",
    "class SLinkedList:\n",
    "    def __init__(self):\n",
    "        self.head = None\n",
    "        \n",
    "    #Print the linked list\n",
    "    def listPrint(self):\n",
    "        printval = self.head\n",
    "        while printval is not None:\n",
    "            print(printval.data)\n",
    "            printval = printval.next\n",
    "            \n",
    "    def atBegining(self, newData):\n",
    "        #Creat a node object\n",
    "        newNode = Node(newData)\n",
    "        #update the new nodes next val to the existing node\n",
    "        newNode.next = self.head\n",
    "        self.head = newNode\n",
    "        \n",
    "list1 = SLinkedList()\n",
    "list1.head = Node(\"Mon\")\n",
    "e2 = Node(\"Tue\")\n",
    "e3 = Node(\"Wed\")\n",
    "list1.head.next = e2\n",
    "e2.next = e3\n",
    "\n",
    "list1.listPrint()\n",
    "print()\n",
    "list1.atBegining(\"Sun\")\n",
    "list1.listPrint()"
   ]
  },
  {
   "cell_type": "markdown",
   "id": "c75050b8",
   "metadata": {
    "papermill": {
     "duration": 0.01207,
     "end_time": "2022-03-04T17:50:29.653399",
     "exception": false,
     "start_time": "2022-03-04T17:50:29.641329",
     "status": "completed"
    },
    "tags": []
   },
   "source": [
    "# Inserting at the End\n",
    "This invovles pointint the next pointer of the current last node of the linked list to the data node. So the current node of the linked list becomes the second last data node and the new node becomes the last node of the linked list\n"
   ]
  },
  {
   "cell_type": "code",
   "execution_count": null,
   "id": "249c71e3",
   "metadata": {
    "papermill": {
     "duration": 0.011957,
     "end_time": "2022-03-04T17:50:29.677506",
     "exception": false,
     "start_time": "2022-03-04T17:50:29.665549",
     "status": "completed"
    },
    "tags": []
   },
   "outputs": [],
   "source": []
  },
  {
   "cell_type": "code",
   "execution_count": null,
   "id": "5800d44b",
   "metadata": {
    "papermill": {
     "duration": 0.018854,
     "end_time": "2022-03-04T17:50:29.708740",
     "exception": false,
     "start_time": "2022-03-04T17:50:29.689886",
     "status": "completed"
    },
    "tags": []
   },
   "outputs": [],
   "source": []
  },
  {
   "cell_type": "code",
   "execution_count": null,
   "id": "d02e8d9e",
   "metadata": {
    "papermill": {
     "duration": 0.011908,
     "end_time": "2022-03-04T17:50:29.733103",
     "exception": false,
     "start_time": "2022-03-04T17:50:29.721195",
     "status": "completed"
    },
    "tags": []
   },
   "outputs": [],
   "source": []
  },
  {
   "cell_type": "code",
   "execution_count": null,
   "id": "728849ad",
   "metadata": {
    "papermill": {
     "duration": 0.011788,
     "end_time": "2022-03-04T17:50:29.757257",
     "exception": false,
     "start_time": "2022-03-04T17:50:29.745469",
     "status": "completed"
    },
    "tags": []
   },
   "outputs": [],
   "source": []
  }
 ],
 "metadata": {
  "kernelspec": {
   "display_name": "Python 3",
   "language": "python",
   "name": "python3"
  },
  "language_info": {
   "codemirror_mode": {
    "name": "ipython",
    "version": 3
   },
   "file_extension": ".py",
   "mimetype": "text/x-python",
   "name": "python",
   "nbconvert_exporter": "python",
   "pygments_lexer": "ipython3",
   "version": "3.7.12"
  },
  "papermill": {
   "default_parameters": {},
   "duration": 13.585938,
   "end_time": "2022-03-04T17:50:33.035000",
   "environment_variables": {},
   "exception": null,
   "input_path": "__notebook__.ipynb",
   "output_path": "__notebook__.ipynb",
   "parameters": {},
   "start_time": "2022-03-04T17:50:19.449062",
   "version": "2.3.3"
  }
 },
 "nbformat": 4,
 "nbformat_minor": 5
}
