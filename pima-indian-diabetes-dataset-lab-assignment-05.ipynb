{
 "cells": [
  {
   "cell_type": "code",
   "execution_count": null,
   "id": "6ccbc390",
   "metadata": {
    "papermill": {
     "duration": 0.022882,
     "end_time": "2022-02-25T11:50:37.038038",
     "exception": false,
     "start_time": "2022-02-25T11:50:37.015156",
     "status": "completed"
    },
    "tags": []
   },
   "outputs": [],
   "source": []
  },
  {
   "cell_type": "code",
   "execution_count": 1,
   "id": "9d18c4ae",
   "metadata": {
    "_cell_guid": "b1076dfc-b9ad-4769-8c92-a6c4dae69d19",
    "_uuid": "8f2839f25d086af736a60e9eeb907d3b93b6e0e5",
    "execution": {
     "iopub.execute_input": "2022-02-25T11:50:37.092209Z",
     "iopub.status.busy": "2022-02-25T11:50:37.091467Z",
     "iopub.status.idle": "2022-02-25T11:50:37.113896Z",
     "shell.execute_reply": "2022-02-25T11:50:37.115192Z",
     "shell.execute_reply.started": "2022-02-25T11:43:37.793361Z"
    },
    "papermill": {
     "duration": 0.053377,
     "end_time": "2022-02-25T11:50:37.115864",
     "exception": false,
     "start_time": "2022-02-25T11:50:37.062487",
     "status": "completed"
    },
    "tags": []
   },
   "outputs": [
    {
     "name": "stdout",
     "output_type": "stream",
     "text": [
      "/kaggle/input/pima-indians-diabetes-database/diabetes.csv\n"
     ]
    }
   ],
   "source": [
    "# This Python 3 environment comes with many helpful analytics libraries installed\n",
    "# It is defined by the kaggle/python Docker image: https://github.com/kaggle/docker-python\n",
    "# For example, here's several helpful packages to load\n",
    "\n",
    "import numpy as np # linear algebra\n",
    "import pandas as pd # data processing, CSV file I/O (e.g. pd.read_csv)\n",
    "\n",
    "# Input data files are available in the read-only \"../input/\" directory\n",
    "# For example, running this (by clicking run or pressing Shift+Enter) will list all files under the input directory\n",
    "\n",
    "import os\n",
    "for dirname, _, filenames in os.walk('/kaggle/input'):\n",
    "    for filename in filenames:\n",
    "        print(os.path.join(dirname, filename))\n",
    "\n",
    "# You can write up to 20GB to the current directory (/kaggle/working/) that gets preserved as output when you create a version using \"Save & Run All\" \n",
    "# You can also write temporary files to /kaggle/temp/, but they won't be saved outside of the current session"
   ]
  },
  {
   "cell_type": "markdown",
   "id": "471bf2bd",
   "metadata": {
    "papermill": {
     "duration": 0.018549,
     "end_time": "2022-02-25T11:50:37.154406",
     "exception": false,
     "start_time": "2022-02-25T11:50:37.135857",
     "status": "completed"
    },
    "tags": []
   },
   "source": [
    "#### ![NITH LOGO](data:image/jpeg;base64,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)\n",
    "\n",
    "---\n",
    "## National Institute of Technology, Hamirpur\n",
    "---\n",
    "----------------------------------------------------------------------------------------\n",
    "### Computer Science & Engineering Department\n",
    "----------------------------------------------------------------------------------------\n",
    "# **CSD_426**\n",
    "## Data Ware Housing and Data Mining LAB\n",
    "---\n",
    "\n",
    "> Submitted By: **Abhishek Kumar, 185540**\n",
    "\n",
    "\n",
    "> Submitted To: **Dr. Vijay Kumar Chahar**\n"
   ]
  },
  {
   "cell_type": "markdown",
   "id": "aa809042",
   "metadata": {
    "papermill": {
     "duration": 0.017513,
     "end_time": "2022-02-25T11:50:37.189604",
     "exception": false,
     "start_time": "2022-02-25T11:50:37.172091",
     "status": "completed"
    },
    "tags": []
   },
   "source": [
    "# Questions:\n",
    "1. Construct a scatterplot with x-axis to be the mass variable and y-axis to be the age variable.Moreover, determine the color of the points based on the class of the candidate (0 or 1).\n",
    "2. Create a distance matrix for the data.\n",
    "3. Make a hierarchical clustering analysis using the single linkage method. Then create an object that contains only two clusters.\n",
    "4. Make a hierarchical clustering analysis using the complete linkage method. Then create an object that contains only two clusters.\n",
    "5. Construct the trees that are produced by Questions 2 and 3 and draw the two clusters (at the plots).\n",
    "6. Construct two scatterplot with x-axis to be the mass variable and y-axis to be the age variable. Moreover, determine the color of the points based on the cluster that those points belong to. Each scatterplot is for different clustering method.\n",
    "7. Construct a scatterplot with x-axis to be the mass variable and y-axis to be the age variable. Moreover, determine the color of the points based on the cluster (retrieved from k-mean method) that those points belong to.\n",
    "8. Construct a scatterplot with x-axis to be the mass variable and y-axis to be the age variable. Moreover, determine the color of the points based on the cluster (retrieved from k-median method) that those points belong to."
   ]
  },
  {
   "cell_type": "code",
   "execution_count": 2,
   "id": "35d12309",
   "metadata": {
    "execution": {
     "iopub.execute_input": "2022-02-25T11:50:37.232129Z",
     "iopub.status.busy": "2022-02-25T11:50:37.230610Z",
     "iopub.status.idle": "2022-02-25T11:50:46.959950Z",
     "shell.execute_reply": "2022-02-25T11:50:46.959451Z",
     "shell.execute_reply.started": "2022-02-25T11:43:37.809028Z"
    },
    "papermill": {
     "duration": 9.751806,
     "end_time": "2022-02-25T11:50:46.960063",
     "exception": false,
     "start_time": "2022-02-25T11:50:37.208257",
     "status": "completed"
    },
    "tags": []
   },
   "outputs": [
    {
     "name": "stdout",
     "output_type": "stream",
     "text": [
      "Collecting pywaffle\r\n",
      "  Downloading pywaffle-0.6.4-py2.py3-none-any.whl (565 kB)\r\n",
      "     |████████████████████████████████| 565 kB 3.0 MB/s            \r\n",
      "\u001b[?25hRequirement already satisfied: matplotlib in /opt/conda/lib/python3.7/site-packages (from pywaffle) (3.5.1)\r\n",
      "Requirement already satisfied: kiwisolver>=1.0.1 in /opt/conda/lib/python3.7/site-packages (from matplotlib->pywaffle) (1.3.2)\r\n",
      "Requirement already satisfied: numpy>=1.17 in /opt/conda/lib/python3.7/site-packages (from matplotlib->pywaffle) (1.20.3)\r\n",
      "Requirement already satisfied: python-dateutil>=2.7 in /opt/conda/lib/python3.7/site-packages (from matplotlib->pywaffle) (2.8.2)\r\n",
      "Requirement already satisfied: pyparsing>=2.2.1 in /opt/conda/lib/python3.7/site-packages (from matplotlib->pywaffle) (3.0.6)\r\n",
      "Requirement already satisfied: pillow>=6.2.0 in /opt/conda/lib/python3.7/site-packages (from matplotlib->pywaffle) (8.2.0)\r\n",
      "Requirement already satisfied: fonttools>=4.22.0 in /opt/conda/lib/python3.7/site-packages (from matplotlib->pywaffle) (4.28.4)\r\n",
      "Requirement already satisfied: packaging>=20.0 in /opt/conda/lib/python3.7/site-packages (from matplotlib->pywaffle) (21.3)\r\n",
      "Requirement already satisfied: cycler>=0.10 in /opt/conda/lib/python3.7/site-packages (from matplotlib->pywaffle) (0.11.0)\r\n",
      "Requirement already satisfied: six>=1.5 in /opt/conda/lib/python3.7/site-packages (from python-dateutil>=2.7->matplotlib->pywaffle) (1.16.0)\r\n",
      "Installing collected packages: pywaffle\r\n",
      "Successfully installed pywaffle-0.6.4\r\n",
      "\u001b[33mWARNING: Running pip as the 'root' user can result in broken permissions and conflicting behaviour with the system package manager. It is recommended to use a virtual environment instead: https://pip.pypa.io/warnings/venv\u001b[0m\r\n"
     ]
    }
   ],
   "source": [
    "!pip install pywaffle"
   ]
  },
  {
   "cell_type": "code",
   "execution_count": 3,
   "id": "2982ead4",
   "metadata": {
    "execution": {
     "iopub.execute_input": "2022-02-25T11:50:46.998038Z",
     "iopub.status.busy": "2022-02-25T11:50:46.997495Z",
     "iopub.status.idle": "2022-02-25T11:50:49.498141Z",
     "shell.execute_reply": "2022-02-25T11:50:49.498644Z",
     "shell.execute_reply.started": "2022-02-25T11:43:47.117011Z"
    },
    "papermill": {
     "duration": 2.52501,
     "end_time": "2022-02-25T11:50:49.498776",
     "exception": false,
     "start_time": "2022-02-25T11:50:46.973766",
     "status": "completed"
    },
    "tags": []
   },
   "outputs": [
    {
     "data": {
      "text/html": [
       "        <script type=\"text/javascript\">\n",
       "        window.PlotlyConfig = {MathJaxConfig: 'local'};\n",
       "        if (window.MathJax) {MathJax.Hub.Config({SVG: {font: \"STIX-Web\"}});}\n",
       "        if (typeof require !== 'undefined') {\n",
       "        require.undef(\"plotly\");\n",
       "        requirejs.config({\n",
       "            paths: {\n",
       "                'plotly': ['https://cdn.plot.ly/plotly-2.8.3.min']\n",
       "            }\n",
       "        });\n",
       "        require(['plotly'], function(Plotly) {\n",
       "            window._Plotly = Plotly;\n",
       "        });\n",
       "        }\n",
       "        </script>\n",
       "        "
      ]
     },
     "metadata": {},
     "output_type": "display_data"
    }
   ],
   "source": [
    "import warnings\n",
    "warnings.filterwarnings(\"ignore\")\n",
    "\n",
    "#basic libraries\n",
    "import os\n",
    "import pandas as pd\n",
    "import numpy as np\n",
    "import re\n",
    "import string\n",
    "from collections import Counter\n",
    "import time\n",
    "\n",
    "# Visualisation module\n",
    "import missingno as msno\n",
    "import matplotlib\n",
    "import matplotlib.pyplot as plt\n",
    "import seaborn as sns\n",
    "import plotly.express as px\n",
    "import plotly.graph_objs as go\n",
    "from plotly.offline import iplot, init_notebook_mode\n",
    "\n",
    "\n",
    "from pywaffle import Waffle\n",
    "\n",
    "%matplotlib inline\n",
    "init_notebook_mode(connected=True)\n"
   ]
  },
  {
   "cell_type": "code",
   "execution_count": 4,
   "id": "3a21eb16",
   "metadata": {
    "execution": {
     "iopub.execute_input": "2022-02-25T11:50:49.528740Z",
     "iopub.status.busy": "2022-02-25T11:50:49.528179Z",
     "iopub.status.idle": "2022-02-25T11:50:49.571534Z",
     "shell.execute_reply": "2022-02-25T11:50:49.570987Z",
     "shell.execute_reply.started": "2022-02-25T11:43:47.135191Z"
    },
    "papermill": {
     "duration": 0.059588,
     "end_time": "2022-02-25T11:50:49.571651",
     "exception": false,
     "start_time": "2022-02-25T11:50:49.512063",
     "status": "completed"
    },
    "tags": []
   },
   "outputs": [
    {
     "data": {
      "text/html": [
       "<div>\n",
       "<style scoped>\n",
       "    .dataframe tbody tr th:only-of-type {\n",
       "        vertical-align: middle;\n",
       "    }\n",
       "\n",
       "    .dataframe tbody tr th {\n",
       "        vertical-align: top;\n",
       "    }\n",
       "\n",
       "    .dataframe thead th {\n",
       "        text-align: right;\n",
       "    }\n",
       "</style>\n",
       "<table border=\"1\" class=\"dataframe\">\n",
       "  <thead>\n",
       "    <tr style=\"text-align: right;\">\n",
       "      <th></th>\n",
       "      <th>Glucose</th>\n",
       "      <th>BloodPressure</th>\n",
       "      <th>SkinThickness</th>\n",
       "      <th>Insulin</th>\n",
       "      <th>BMI</th>\n",
       "      <th>DiabetesPedigreeFunction</th>\n",
       "      <th>Age</th>\n",
       "      <th>Outcome</th>\n",
       "    </tr>\n",
       "    <tr>\n",
       "      <th>Pregnancies</th>\n",
       "      <th></th>\n",
       "      <th></th>\n",
       "      <th></th>\n",
       "      <th></th>\n",
       "      <th></th>\n",
       "      <th></th>\n",
       "      <th></th>\n",
       "      <th></th>\n",
       "    </tr>\n",
       "  </thead>\n",
       "  <tbody>\n",
       "    <tr>\n",
       "      <th>6</th>\n",
       "      <td>148</td>\n",
       "      <td>72</td>\n",
       "      <td>35</td>\n",
       "      <td>0</td>\n",
       "      <td>33.6</td>\n",
       "      <td>0.627</td>\n",
       "      <td>50</td>\n",
       "      <td>1</td>\n",
       "    </tr>\n",
       "    <tr>\n",
       "      <th>1</th>\n",
       "      <td>85</td>\n",
       "      <td>66</td>\n",
       "      <td>29</td>\n",
       "      <td>0</td>\n",
       "      <td>26.6</td>\n",
       "      <td>0.351</td>\n",
       "      <td>31</td>\n",
       "      <td>0</td>\n",
       "    </tr>\n",
       "    <tr>\n",
       "      <th>8</th>\n",
       "      <td>183</td>\n",
       "      <td>64</td>\n",
       "      <td>0</td>\n",
       "      <td>0</td>\n",
       "      <td>23.3</td>\n",
       "      <td>0.672</td>\n",
       "      <td>32</td>\n",
       "      <td>1</td>\n",
       "    </tr>\n",
       "  </tbody>\n",
       "</table>\n",
       "</div>"
      ],
      "text/plain": [
       "             Glucose  BloodPressure  SkinThickness  Insulin   BMI  \\\n",
       "Pregnancies                                                         \n",
       "6                148             72             35        0  33.6   \n",
       "1                 85             66             29        0  26.6   \n",
       "8                183             64              0        0  23.3   \n",
       "\n",
       "             DiabetesPedigreeFunction  Age  Outcome  \n",
       "Pregnancies                                          \n",
       "6                               0.627   50        1  \n",
       "1                               0.351   31        0  \n",
       "8                               0.672   32        1  "
      ]
     },
     "execution_count": 4,
     "metadata": {},
     "output_type": "execute_result"
    }
   ],
   "source": [
    "df = pd.read_csv(\"../input/pima-indians-diabetes-database/diabetes.csv\", index_col = 0, encoding=\"utf-8\")\n",
    "df.head(3)"
   ]
  },
  {
   "cell_type": "code",
   "execution_count": 5,
   "id": "6377515b",
   "metadata": {
    "execution": {
     "iopub.execute_input": "2022-02-25T11:50:49.603836Z",
     "iopub.status.busy": "2022-02-25T11:50:49.603276Z",
     "iopub.status.idle": "2022-02-25T11:50:49.621378Z",
     "shell.execute_reply": "2022-02-25T11:50:49.620406Z",
     "shell.execute_reply.started": "2022-02-25T11:43:47.167865Z"
    },
    "papermill": {
     "duration": 0.035581,
     "end_time": "2022-02-25T11:50:49.621506",
     "exception": false,
     "start_time": "2022-02-25T11:50:49.585925",
     "status": "completed"
    },
    "tags": []
   },
   "outputs": [
    {
     "name": "stdout",
     "output_type": "stream",
     "text": [
      "<class 'pandas.core.frame.DataFrame'>\n",
      "Int64Index: 768 entries, 6 to 1\n",
      "Data columns (total 8 columns):\n",
      " #   Column                    Non-Null Count  Dtype  \n",
      "---  ------                    --------------  -----  \n",
      " 0   Glucose                   768 non-null    int64  \n",
      " 1   BloodPressure             768 non-null    int64  \n",
      " 2   SkinThickness             768 non-null    int64  \n",
      " 3   Insulin                   768 non-null    int64  \n",
      " 4   BMI                       768 non-null    float64\n",
      " 5   DiabetesPedigreeFunction  768 non-null    float64\n",
      " 6   Age                       768 non-null    int64  \n",
      " 7   Outcome                   768 non-null    int64  \n",
      "dtypes: float64(2), int64(6)\n",
      "memory usage: 54.0 KB\n"
     ]
    }
   ],
   "source": [
    "# information about the dataframe\n",
    "df.info()"
   ]
  },
  {
   "cell_type": "code",
   "execution_count": 6,
   "id": "8e58500e",
   "metadata": {
    "execution": {
     "iopub.execute_input": "2022-02-25T11:50:49.660701Z",
     "iopub.status.busy": "2022-02-25T11:50:49.660155Z",
     "iopub.status.idle": "2022-02-25T11:50:49.685008Z",
     "shell.execute_reply": "2022-02-25T11:50:49.684560Z",
     "shell.execute_reply.started": "2022-02-25T11:43:47.187235Z"
    },
    "papermill": {
     "duration": 0.049189,
     "end_time": "2022-02-25T11:50:49.685133",
     "exception": false,
     "start_time": "2022-02-25T11:50:49.635944",
     "status": "completed"
    },
    "tags": []
   },
   "outputs": [
    {
     "data": {
      "text/html": [
       "<div>\n",
       "<style scoped>\n",
       "    .dataframe tbody tr th:only-of-type {\n",
       "        vertical-align: middle;\n",
       "    }\n",
       "\n",
       "    .dataframe tbody tr th {\n",
       "        vertical-align: top;\n",
       "    }\n",
       "\n",
       "    .dataframe thead th {\n",
       "        text-align: right;\n",
       "    }\n",
       "</style>\n",
       "<table border=\"1\" class=\"dataframe\">\n",
       "  <thead>\n",
       "    <tr style=\"text-align: right;\">\n",
       "      <th></th>\n",
       "      <th>Glucose</th>\n",
       "      <th>BloodPressure</th>\n",
       "      <th>SkinThickness</th>\n",
       "      <th>Insulin</th>\n",
       "      <th>BMI</th>\n",
       "      <th>DiabetesPedigreeFunction</th>\n",
       "      <th>Age</th>\n",
       "      <th>Outcome</th>\n",
       "    </tr>\n",
       "  </thead>\n",
       "  <tbody>\n",
       "    <tr>\n",
       "      <th>count</th>\n",
       "      <td>768.000000</td>\n",
       "      <td>768.000000</td>\n",
       "      <td>768.000000</td>\n",
       "      <td>768.000000</td>\n",
       "      <td>768.000000</td>\n",
       "      <td>768.000000</td>\n",
       "      <td>768.000000</td>\n",
       "      <td>768.000000</td>\n",
       "    </tr>\n",
       "    <tr>\n",
       "      <th>mean</th>\n",
       "      <td>120.894531</td>\n",
       "      <td>69.105469</td>\n",
       "      <td>20.536458</td>\n",
       "      <td>79.799479</td>\n",
       "      <td>31.992578</td>\n",
       "      <td>0.471876</td>\n",
       "      <td>33.240885</td>\n",
       "      <td>0.348958</td>\n",
       "    </tr>\n",
       "    <tr>\n",
       "      <th>std</th>\n",
       "      <td>31.972618</td>\n",
       "      <td>19.355807</td>\n",
       "      <td>15.952218</td>\n",
       "      <td>115.244002</td>\n",
       "      <td>7.884160</td>\n",
       "      <td>0.331329</td>\n",
       "      <td>11.760232</td>\n",
       "      <td>0.476951</td>\n",
       "    </tr>\n",
       "    <tr>\n",
       "      <th>min</th>\n",
       "      <td>0.000000</td>\n",
       "      <td>0.000000</td>\n",
       "      <td>0.000000</td>\n",
       "      <td>0.000000</td>\n",
       "      <td>0.000000</td>\n",
       "      <td>0.078000</td>\n",
       "      <td>21.000000</td>\n",
       "      <td>0.000000</td>\n",
       "    </tr>\n",
       "    <tr>\n",
       "      <th>25%</th>\n",
       "      <td>99.000000</td>\n",
       "      <td>62.000000</td>\n",
       "      <td>0.000000</td>\n",
       "      <td>0.000000</td>\n",
       "      <td>27.300000</td>\n",
       "      <td>0.243750</td>\n",
       "      <td>24.000000</td>\n",
       "      <td>0.000000</td>\n",
       "    </tr>\n",
       "    <tr>\n",
       "      <th>50%</th>\n",
       "      <td>117.000000</td>\n",
       "      <td>72.000000</td>\n",
       "      <td>23.000000</td>\n",
       "      <td>30.500000</td>\n",
       "      <td>32.000000</td>\n",
       "      <td>0.372500</td>\n",
       "      <td>29.000000</td>\n",
       "      <td>0.000000</td>\n",
       "    </tr>\n",
       "    <tr>\n",
       "      <th>75%</th>\n",
       "      <td>140.250000</td>\n",
       "      <td>80.000000</td>\n",
       "      <td>32.000000</td>\n",
       "      <td>127.250000</td>\n",
       "      <td>36.600000</td>\n",
       "      <td>0.626250</td>\n",
       "      <td>41.000000</td>\n",
       "      <td>1.000000</td>\n",
       "    </tr>\n",
       "    <tr>\n",
       "      <th>max</th>\n",
       "      <td>199.000000</td>\n",
       "      <td>122.000000</td>\n",
       "      <td>99.000000</td>\n",
       "      <td>846.000000</td>\n",
       "      <td>67.100000</td>\n",
       "      <td>2.420000</td>\n",
       "      <td>81.000000</td>\n",
       "      <td>1.000000</td>\n",
       "    </tr>\n",
       "  </tbody>\n",
       "</table>\n",
       "</div>"
      ],
      "text/plain": [
       "          Glucose  BloodPressure  SkinThickness     Insulin         BMI  \\\n",
       "count  768.000000     768.000000     768.000000  768.000000  768.000000   \n",
       "mean   120.894531      69.105469      20.536458   79.799479   31.992578   \n",
       "std     31.972618      19.355807      15.952218  115.244002    7.884160   \n",
       "min      0.000000       0.000000       0.000000    0.000000    0.000000   \n",
       "25%     99.000000      62.000000       0.000000    0.000000   27.300000   \n",
       "50%    117.000000      72.000000      23.000000   30.500000   32.000000   \n",
       "75%    140.250000      80.000000      32.000000  127.250000   36.600000   \n",
       "max    199.000000     122.000000      99.000000  846.000000   67.100000   \n",
       "\n",
       "       DiabetesPedigreeFunction         Age     Outcome  \n",
       "count                768.000000  768.000000  768.000000  \n",
       "mean                   0.471876   33.240885    0.348958  \n",
       "std                    0.331329   11.760232    0.476951  \n",
       "min                    0.078000   21.000000    0.000000  \n",
       "25%                    0.243750   24.000000    0.000000  \n",
       "50%                    0.372500   29.000000    0.000000  \n",
       "75%                    0.626250   41.000000    1.000000  \n",
       "max                    2.420000   81.000000    1.000000  "
      ]
     },
     "execution_count": 6,
     "metadata": {},
     "output_type": "execute_result"
    }
   ],
   "source": [
    "# Description of the dataset\n",
    "df.describe()"
   ]
  },
  {
   "cell_type": "code",
   "execution_count": 7,
   "id": "3b6a6dcf",
   "metadata": {
    "execution": {
     "iopub.execute_input": "2022-02-25T11:50:49.717814Z",
     "iopub.status.busy": "2022-02-25T11:50:49.717246Z",
     "iopub.status.idle": "2022-02-25T11:50:49.976184Z",
     "shell.execute_reply": "2022-02-25T11:50:49.975746Z",
     "shell.execute_reply.started": "2022-02-25T11:47:47.712342Z"
    },
    "papermill": {
     "duration": 0.276405,
     "end_time": "2022-02-25T11:50:49.976321",
     "exception": false,
     "start_time": "2022-02-25T11:50:49.699916",
     "status": "completed"
    },
    "tags": []
   },
   "outputs": [
    {
     "data": {
      "image/png": "[encoded data removed]",
      "text/plain": [
       "<Figure size 720x180 with 1 Axes>"
      ]
     },
     "metadata": {
      "needs_background": "light"
     },
     "output_type": "display_data"
    }
   ],
   "source": [
    "#color palette of visualisation\n",
    "colors = [\"#f6f5f5\",\"#fe346e\",\"#512b58\",\"#2c003e\"]\n",
    "palette = sns.color_palette(palette = colors)\n",
    "\n",
    "sns.palplot(palette, size = 2.5)\n",
    "plt.text(-0.5,-0.75,\"Color Palette for this Visualisation\",{\"font\":\"serif\",\"size\":25,\"weight\":\"bold\"})\n",
    "plt.text(-0.5,-0.60,\"Mostly same colours will be used throughout this notebook.\",{\"font\":\"serif\",\"size\":18,\"weight\":\"normal\"},alpha=0.8)\n",
    "plt.show()"
   ]
  },
  {
   "cell_type": "markdown",
   "id": "da32e985",
   "metadata": {
    "papermill": {
     "duration": 0.016194,
     "end_time": "2022-02-25T11:50:50.008943",
     "exception": false,
     "start_time": "2022-02-25T11:50:49.992749",
     "status": "completed"
    },
    "tags": []
   },
   "source": [
    "### 1. Construct a scatterplot with x-axis to be the mass variable and y-axis to be the age variable.Moreover, determine the color of the points based on the class of the candidate (0 or 1)."
   ]
  },
  {
   "cell_type": "code",
   "execution_count": 8,
   "id": "0e286b41",
   "metadata": {
    "execution": {
     "iopub.execute_input": "2022-02-25T11:50:50.053195Z",
     "iopub.status.busy": "2022-02-25T11:50:50.052679Z",
     "iopub.status.idle": "2022-02-25T11:50:50.291191Z",
     "shell.execute_reply": "2022-02-25T11:50:50.290700Z",
     "shell.execute_reply.started": "2022-02-25T11:47:51.153524Z"
    },
    "papermill": {
     "duration": 0.265868,
     "end_time": "2022-02-25T11:50:50.291322",
     "exception": false,
     "start_time": "2022-02-25T11:50:50.025454",
     "status": "completed"
    },
    "tags": []
   },
   "outputs": [
    {
     "data": {
      "image/png": "[encoded data removed]",
      "text/plain": [
       "<Figure size 480x480 with 1 Axes>"
      ]
     },
     "metadata": {},
     "output_type": "display_data"
    }
   ],
   "source": [
    "#creating categories of outcome\n",
    "categories = np.unique(df[\"Outcome\"])\n",
    "color_category = [colors[1],colors[2]]\n",
    "\n",
    "#deciding the subplot size\n",
    "fig, ax = plt.subplots(figsize = (6,6),dpi=80, facecolor=colors[0])\n",
    "ax.set_facecolor(colors[0])\n",
    "\n",
    "#for each category mapped into scatterplot then like 1st layer and second layer\n",
    "for i, category in enumerate(categories):\n",
    "    plt.scatter(\"BMI\",\"Age\",data = df.loc[df.Outcome==category,:],s =10, c = colors[i+1] , label=str(category))\n",
    "    \n",
    "#decoration\n",
    "#giving label to the axis\n",
    "plt.xlabel(\"BMI\");    plt.ylabel(\"Age\")\n",
    "#title of the plot\n",
    "plt.title(\"BMI vs Age in diabetic and NON Diabetic persons\", color = colors[3])\n",
    "plt.gca(xlims=(0,70),ylims=(0,80))\n",
    "\n",
    "plt.xticks(fontsize=12); plt.yticks(fontsize=12)\n",
    "plt.legend(fontsize=12,facecolor= colors[0],edgecolor=colors[3])\n",
    "\n",
    "ax.xaxis.label.set_color(colors[3]); ax.yaxis.label.set_color(colors[3])\n",
    "ax.tick_params(axis=\"x\",colors=colors[3]);ax.tick_params(axis = \"y\",colors=colors[3])\n",
    "ax.spines[\"left\"].set_color(colors[3]);ax.spines[\"bottom\"].set_color(colors[3])\n",
    "ax.spines[\"right\"].set_visible(False);ax.spines[\"top\"].set_visible(False)\n",
    "\n",
    "plt.show()"
   ]
  }
 ],
 "metadata": {
  "kernelspec": {
   "display_name": "Python 3",
   "language": "python",
   "name": "python3"
  },
  "language_info": {
   "codemirror_mode": {
    "name": "ipython",
    "version": 3
   },
   "file_extension": ".py",
   "mimetype": "text/x-python",
   "name": "python",
   "nbconvert_exporter": "python",
   "pygments_lexer": "ipython3",
   "version": "3.7.12"
  },
  "papermill": {
   "default_parameters": {},
   "duration": 23.359828,
   "end_time": "2022-02-25T11:50:51.120698",
   "environment_variables": {},
   "exception": null,
   "input_path": "__notebook__.ipynb",
   "output_path": "__notebook__.ipynb",
   "parameters": {},
   "start_time": "2022-02-25T11:50:27.760870",
   "version": "2.3.3"
  }
 },
 "nbformat": 4,
 "nbformat_minor": 5
}
